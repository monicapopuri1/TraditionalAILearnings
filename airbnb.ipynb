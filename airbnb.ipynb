{
  "nbformat": 4,
  "nbformat_minor": 0,
  "metadata": {
    "colab": {
      "provenance": [],
      "authorship_tag": "ABX9TyP4QH7RtHajEq1RtDNmpRkK",
      "include_colab_link": true
    },
    "kernelspec": {
      "name": "python3",
      "display_name": "Python 3"
    },
    "language_info": {
      "name": "python"
    }
  },
  "cells": [
    {
      "cell_type": "markdown",
      "metadata": {
        "id": "view-in-github",
        "colab_type": "text"
      },
      "source": [
        "<a href=\"https://colab.research.google.com/github/monicapopuri1/TraditionalAILearnings/blob/main/airbnb.ipynb\" target=\"_parent\"><img src=\"https://colab.research.google.com/assets/colab-badge.svg\" alt=\"Open In Colab\"/></a>"
      ]
    },
    {
      "cell_type": "markdown",
      "source": [
        "\n",
        "1. Define the problem and perform an Exploratory Data Analysis\n",
        "- Problem definition, questions to be answered\n",
        "    Airbnb which is a platform to rent short term accomodation and charges or every booking, Airbnb charges the guest 6-12% of the booking fee. Moreover, Airbnb charges the host 3% for every successful transaction. As sr. data scientist I need to get the right pricing model to predict rent of the accomodation and also can help hosts , travelers, and also business profitably.\n",
        "- Univariate analysis\n",
        "- Bivariate analysis\n",
        "\n"
      ],
      "metadata": {
        "id": "_grOiM1L1X2_"
      }
    },
    {
      "cell_type": "markdown",
      "source": [
        "- Data background and contents\n",
        "\n",
        "id: Property ID\n",
        "room_type: Type of Room in the property\n",
        "accommodates: How many adults can this property accommodate\n",
        "bathrooms: Number of bathrooms on the property\n",
        "cancellation_policy: Cancellation policy of the property\n",
        "cleaning_fee: This denotes whether the property cleaning fee is included in the rent or not\n",
        "instant_bookable: It indicates whether an instant booking facility is available or not\n",
        "review_scores_rating: Review rating score of the property\n",
        "bedrooms: Number of bedrooms in the property\n",
        "beds: Total number of beds in the property\n",
        "log_price: Log of the rental price of the property for a fixed period. [If the price is 12000 dollars, then log_price represents log(12000)]"
      ],
      "metadata": {
        "id": "t0AL7_Jm2k2A"
      }
    },
    {
      "cell_type": "code",
      "execution_count": null,
      "metadata": {
        "id": "veOjuYW60m3H"
      },
      "outputs": [],
      "source": []
    }
  ]
}